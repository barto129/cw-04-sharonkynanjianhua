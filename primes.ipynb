{
 "cells": [
  {
   "cell_type": "code",
   "execution_count": 8,
   "metadata": {
    "collapsed": false
   },
   "outputs": [
   ],
   "source": [
    "import prime"
   ]
  },
  {
   "cell_type": "markdown",
   "metadata": {
    "collapsed": false
   },
   "source": [
    "# The Sieve of Eratosthenes\n",
    "## Subject \n",
    "### This function returns all prime numbers smaller than the positive interger number input by user from Terminal. The main funtion first checks if the input number is a positive interger and then call eratosthenes module to get all the prime numbers smaller than the positive interger number input by user from Terminal, and print on the terminal\n",
    "---\n",
    "## Algorithm\n",
    "### in eratosthenes module, it first generates all positive sintegers less than n by calling a generator, starting from the number 2. Then remove all multiples of 2. Then remove all multiples of the next largest remaining (prime) number (using % mod operator), see below core codes. Repeat until all remaining number go through. Finally, return the set of remaining (prime) numbers. \n"
   ]
  },
  {
   "cell_type": "markdown",
   "metadata": {
    "collapsed": false
   },
   "source": [
    "'''Python \n",
    "    #remove all multiples of the next largest remaining (prime) number (using % mod operator)\n",
    "    for _ in range(0, lenList-1):\n",
    "        i = 0\n",
    "        prime=True,\n",
    "        while listRM[i] < largestNum:\n",
    "            if largestNum % listRM[i] == 0:\n",
    "                prime=False\n",
    "                break\n",
    "            else:\n",
    "                prime=True        \n",
    "            i += 1\n",
    "            \n",
    "        if prime == False:\n",
    "            listRM.remove(largestNum)\n",
    "            lenList -= 1\n",
    "        \n",
    "        idxList -= 1\n",
    "        largestNum = listRM[idxList-1]\n",
    "'''"
   ]
  },
  {
   "cell_type": "markdown",
   "metadata": {
    "collapsed": false
   },
   "source": [
    "### Mod operator used in the code as:\n",
    "$largestNum \\% listRM[i] == 0 $"
   ]
  },
  {
   "cell_type": "markdown",
   "metadata": {
    "collapsed": false
   },
   "source": [
    "## Example1 return all prime less than 100"
   ]
  },
  {
   "cell_type": "code",
   "execution_count": 11,
   "metadata": {
    "collapsed": false
   },
   "outputs": [
   ],
   "source": [
    "import eratosthenes\n",
    "eratosthenes.eratosthenes(100)"
   ]
  },
  {
   "cell_type": "markdown",
   "metadata": {
    "collapsed": false
   },
   "source": [
    "# Generating Prime Number\n",
    "## In previous Eratosthenes algorithm, we compose a list and then select the prime numbers, now in this alternative algorithm, we use generator to yield each of the prime numbers we need from the "
   ]
  },
  {
   "cell_type": "markdown",
   "metadata": {
    "collapsed": false
   },
   "source": [
    "'''Python\n",
    "\n",
    "    def prime_check(Num, primeList):\n",
    "        for primeNum in primeList:\n",
    "            if Num % primeNum == 0:\n",
    "                return False\n",
    "        return True\n",
    "\n",
    "\n",
    "    def gen_eratosthenes():\n",
    "        primeList = []\n",
    "        num = 2\n",
    "        while True:\n",
    "            primeList.append(num)\n",
    "            yield num\n",
    "            num = num + 1\n",
    "            while prime_check(num, primeList) == False:\n",
    "                num = num + 1\n",
    "\n",
    "'''"
   ]
  },
  {
   "cell_type": "markdown",
   "metadata": {
    "collapsed": false
   },
   "source": [
    "# Benchmarking Implementations\n",
    "## first algorithm (eratosthenes)"
   ]
  },
  {
   "cell_type": "code",
   "execution_count": 2,
   "metadata": {
    "collapsed": false,
    "scrolled": true
   },
   "outputs": [
    {
     "name": "stdout",
     "output_type": "stream",
     "text": [
      "8.4 ms ± 799 µs per loop (mean ± std. dev. of 7 runs, 100 loops each)\n"
     ]
    }
   ],
   "source": [
    "import eratosthenes\n",
    "%timeit eratosthenes.eratosthenes(1000)\n"
   ]
  },
  {
   "cell_type": "code",
   "execution_count": 0,
   "metadata": {
    "collapsed": false
   },
   "outputs": [
   ],
   "source": [
    "## second algorithm (generator)"
   ]
  },
  {
   "cell_type": "code",
   "execution_count": 1,
   "metadata": {
    "collapsed": false
   },
   "outputs": [
    {
     "name": "stdout",
     "output_type": "stream",
     "text": [
      "446 µs ± 37.4 µs per loop (mean ± std. dev. of 7 runs, 1000 loops each)\n"
     ]
    }
   ],
   "source": [
    "import prime\n",
    "def try_gen_prime(n):\n",
    "    g = prime.gen_eratosthenes()\n",
    "    p = next(g)\n",
    "    primeList =[p]\n",
    "    while p < n:\n",
    "        p = next(g)\n",
    "        primeList.append(p)\n",
    "    return primeList\n",
    "\n",
    "%timeit try_gen_prime(1000)"
   ]
  },
  {
   "cell_type": "markdown",
   "metadata": {
    "collapsed": false
   },
   "source": [
    "# The first algorithm uses a generator and consume divided by all the numbers in the list, while the second algorithm uses only one generator and divided by the prime number only, thus it is much fasger than previous one\n"
   ]
  }
 ],
 "metadata": {
  "kernelspec": {
   "display_name": "Python 3 (Ubuntu Linux)",
   "language": "python",
   "name": "python3"
  },
  "language_info": {
   "codemirror_mode": {
    "name": "ipython",
    "version": 3
   },
   "file_extension": ".py",
   "mimetype": "text/x-python",
   "name": "python",
   "nbconvert_exporter": "python",
   "pygments_lexer": "ipython3",
   "version": "3.5.2"
  }
 },
 "nbformat": 4,
 "nbformat_minor": 0
}